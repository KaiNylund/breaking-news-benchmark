{
 "cells": [
  {
   "cell_type": "code",
   "execution_count": 2,
   "metadata": {},
   "outputs": [],
   "source": [
    "import numpy as np\n",
    "import datetime\n",
    "import pytz\n",
    "import matplotlib.pyplot as plt"
   ]
  },
  {
   "cell_type": "code",
   "execution_count": 29,
   "metadata": {},
   "outputs": [
    {
     "name": "stdout",
     "output_type": "stream",
     "text": [
      "Number of en articles:1906\n",
      "Number of ru articles:1431\n",
      "Number of zh articles:9627\n"
     ]
    }
   ],
   "source": [
    "# Temporary block to combine individual files since my parsing failed part of the way through ;-;\n",
    "articlesEN = np.load(\"./data/articlesEN.npy\", allow_pickle=True)\n",
    "articlesRU = np.load(\"./data/articlesRU.npy\", allow_pickle=True)\n",
    "articlesZH = np.load(\"./data/articlesZH.npy\", allow_pickle=True)\n",
    "\n",
    "abvs = [\"en\", \"ru\", \"zh\"]\n",
    "article_dicts = [articlesEN, articlesRU, articlesZH]\n",
    "articles = {}\n",
    "\n",
    "for i in range(len(abvs)):\n",
    "  abv = abvs[i]\n",
    "  article_dict = article_dicts[i]\n",
    "  filtered_articles = []\n",
    "  for article in article_dict:\n",
    "    if len(article[\"text\"]) > 100:\n",
    "      filtered_dict = {\"url\": article[\"url\"], \"title\": article[\"title\"], \n",
    "                     \"authors\": article[\"authors\"], \"date\": article[\"date\"],\n",
    "                     \"text\": article[\"text\"]}\n",
    "      filtered_articles.append(filtered_dict)\n",
    "  articles[abv] = filtered_articles\n",
    "  print(\"Number of \" + abv + \" articles:\" + str(len(filtered_articles)))\n",
    "\n",
    "  np.save(\"./data/articles.npy\", articles)"
   ]
  },
  {
   "cell_type": "code",
   "execution_count": 30,
   "metadata": {},
   "outputs": [
    {
     "name": "stdout",
     "output_type": "stream",
     "text": [
      "2004-02-19 00:00:00+00:00 2022-05-31 00:00:00+00:00\n"
     ]
    }
   ],
   "source": [
    "articles = np.load(\"./data/articles.npy\", allow_pickle=True).item()\n",
    "utc=pytz.UTC\n",
    "\n",
    "# Find the date range of articles\n",
    "datetimes = []\n",
    "for abv, article_list in articles.items():\n",
    "  for article in article_list:\n",
    "    if article[\"date\"] != None:\n",
    "      datetimes.append(article[\"date\"].replace(tzinfo=utc))\n",
    "\n",
    "print(min(datetimes), max(datetimes))"
   ]
  },
  {
   "cell_type": "code",
   "execution_count": 5,
   "metadata": {},
   "outputs": [],
   "source": [
    "# Example files from 4/14/22 meeting\n",
    "#print(articles[\"en\"][1000])\n",
    "#print(articles[\"ru\"][1000])\n",
    "#print(articles[\"zh\"][1000])"
   ]
  },
  {
   "cell_type": "code",
   "execution_count": 31,
   "metadata": {},
   "outputs": [
    {
     "name": "stdout",
     "output_type": "stream",
     "text": [
      "9390\n"
     ]
    },
    {
     "data": {
      "image/png": "[encoded data removed]",
      "text/plain": [
       "<Figure size 432x288 with 1 Axes>"
      ]
     },
     "metadata": {
      "needs_background": "light"
     },
     "output_type": "display_data"
    }
   ],
   "source": [
    "# Plot number of articles vs. year\n",
    "year_bins = np.zeros(19, dtype=int)\n",
    "x = np.array(list(range(0, 19))) + 2004\n",
    "count = 0\n",
    "\n",
    "for abv, article_list in articles.items():\n",
    "  for article in article_list:\n",
    "    if article[\"date\"] != None:\n",
    "      year_bins[article[\"date\"].year - 2004] += 1\n",
    "      count += 1\n",
    "\n",
    "print(count)\n",
    "plt.bar(x, year_bins)\n",
    "plt.xticks(x[::2])\n",
    "plt.xlabel(\"Year\")\n",
    "plt.yscale(\"log\")\n",
    "plt.ylabel(\"# articles\")\n",
    "plt.tight_layout()"
   ]
  }
 ],
 "metadata": {
  "interpreter": {
   "hash": "0ea6e71fe6c2aa9f3358b319763c1ad31b448739a273bb69e81d71f2de48b4f8"
  },
  "kernelspec": {
   "display_name": "Python 3.8.13 ('arkenv')",
   "language": "python",
   "name": "python3"
  },
  "language_info": {
   "codemirror_mode": {
    "name": "ipython",
    "version": 3
   },
   "file_extension": ".py",
   "mimetype": "text/x-python",
   "name": "python",
   "nbconvert_exporter": "python",
   "pygments_lexer": "ipython3",
   "version": "3.8.8"
  },
  "orig_nbformat": 4
 },
 "nbformat": 4,
 "nbformat_minor": 2
}
