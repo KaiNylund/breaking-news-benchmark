{
 "cells": [
  {
   "cell_type": "code",
   "execution_count": 1,
   "metadata": {},
   "outputs": [],
   "source": [
    "import newspaper\n",
    "from newspaper import news_pool\n",
    "import googlesearch\n",
    "import numpy as np\n",
    "import pickle\n",
    "from tqdm import tqdm\n",
    "import timeout_decorator"
   ]
  },
  {
   "cell_type": "code",
   "execution_count": 2,
   "metadata": {},
   "outputs": [
    {
     "name": "stdout",
     "output_type": "stream",
     "text": [
      "['https://news.un.org/zh/news', 'https://baike.baidu.com/item/%E6%B6%88%E6%81%AF/1619218', 'https://cn.chinadaily.com.cn/gtx/5d47c3fba31099ab995d74b7/cankaoxiaoxi', 'https://en.wiktionary.org/wiki/%E6%B6%88%E6%81%AF', 'https://aws.amazon.com/cn/message-queue/', 'https://zh.wikipedia.org/zh-hans/%E5%8F%82%E8%80%83%E6%B6%88%E6%81%AF', 'https://support.google.com/chat/answer/7652736?hl=zh-Hans&co=GENIE.Platform%3DAndroid', 'https://slack.com/intl/zh-cn/help/articles/202288908-%E8%AE%BE%E7%BD%AE%E4%BD%A0%E7%9A%84%E6%B6%88%E6%81%AF%E6%A0%BC%E5%BC%8F', 'https://context.reverso.net/%E7%BF%BB%E8%AF%91/%E4%B8%AD%E6%96%87-%E8%8B%B1%E8%AF%AD/%E6%B6%88%E6%81%AF', 'https://slack.com/intl/zh-cn/help/articles/203457187-%E8%87%AA%E5%AE%9A%E4%B9%89%E6%B6%88%E6%81%AF%E5%92%8C%E6%96%87%E4%BB%B6%E7%95%99%E5%AD%98', 'https://slack.com/intl/zh-cn/help/articles/202288908-%E8%AE%BE%E7%BD%AE%E4%BD%A0%E7%9A%84%E6%B6%88%E6%81%AF%E6%A0%BC%E5%BC%8F', 'https://support.google.com/chat/answer/7652736?hl=zh-Hans&co=GENIE.Platform%3DAndroid']\n"
     ]
    }
   ],
   "source": [
    "# Doesn't work very well for chinese...\n",
    "news_translations = [\"news\", \"消息\", \"Новости\"]\n",
    "urls = []\n",
    "for url in googlesearch.search(\"消息\", lang=\"zh\", num_results=10):\n",
    "  urls.append(url)\n",
    "print(urls)"
   ]
  },
  {
   "cell_type": "code",
   "execution_count": 5,
   "metadata": {},
   "outputs": [],
   "source": [
    "# Handpicked list from https://github.com/yavuz/news-feed-list-of-countries\n",
    "\n",
    "cn_urls = [\"http://news.baidu.com/\", \"http://people.com.cn/\", \"https://www.chinanews.com.cn/\",\n",
    "           \"http://www.cnr.cn/\", \"https://cn.chinadaily.com.cn\"]\n",
    "\n",
    "en_urls = [\"https://www.cnn.com/\", \"https://www.nytimes.com/\", \"https://www.foxnews.com/\",\n",
    "           \"https://www.usatoday.com/\", \"https://abcnews.go.com/\"]\n",
    "\n",
    "# lots of removed articles from https://novayagazeta.ru/ after journalists were murdered\n",
    "# (Last major independent media org in russia to shut down...)\n",
    "rs_urls = [\"https://news.mail.ru/\", \"https://novayagazeta.ru/\", \"https://ria.ru/\",\n",
    "           \"https://www.ntv.ru/\", \"http://rbc.ru/\"]"
   ]
  },
  {
   "cell_type": "code",
   "execution_count": 6,
   "metadata": {},
   "outputs": [
    {
     "name": "stdout",
     "output_type": "stream",
     "text": [
      "Building papers...\n"
     ]
    },
    {
     "name": "stderr",
     "output_type": "stream",
     "text": [
      "100%|██████████| 3/3 [03:40<00:00, 73.39s/it] \n"
     ]
    }
   ],
   "source": [
    "# Maybe switch to newspaper3k's automatic language detection since some articles may\n",
    "# not be in the expected language\n",
    "lang_urls = [cn_urls, en_urls, rs_urls]\n",
    "lang_abvs = [\"zh\", \"en\", \"ru\"]\n",
    "built_papers = []\n",
    "articles = []\n",
    "\n",
    "tqdm.write(\"Building papers...\")\n",
    "for i in tqdm(range(len(lang_urls))):\n",
    "  urls = lang_urls[i]\n",
    "  abv = lang_abvs[i]\n",
    "  for url in urls:\n",
    "    paper = newspaper.build(url, memoize_articles=False)\n",
    "    built_papers.append(paper)"
   ]
  },
  {
   "cell_type": "code",
   "execution_count": 8,
   "metadata": {},
   "outputs": [
    {
     "name": "stdout",
     "output_type": "stream",
     "text": [
      "Downloading...\n"
     ]
    }
   ],
   "source": [
    "tqdm.write(\"Downloading...\")\n",
    "news_pool.set(built_papers, threads_per_source=2) # (15*2) = 30 threads total\n",
    "news_pool.join()\n",
    "tqdm.write(\"Done!\")"
   ]
  },
  {
   "cell_type": "code",
   "execution_count": 3,
   "metadata": {},
   "outputs": [],
   "source": [
    "@timeout_decorator.timeout(5, timeout_exception=StopIteration)\n",
    "def saveArticle(article):\n",
    "  article.parse()\n",
    "  articles.append({\"abv\": abv, \"url\": article.url, \"title\": article.title, \n",
    "                     \"authors\": article.authors, \"date\": article.publish_date,\n",
    "                    \"text\": article.text})\n",
    "  np.save(\"articles2.npy\", articles)"
   ]
  },
  {
   "cell_type": "code",
   "execution_count": null,
   "metadata": {},
   "outputs": [],
   "source": [
    "# Takes around a day to finish running...\n",
    "for paper in built_papers:\n",
    "  for article in tqdm(paper.articles):\n",
    "    try:\n",
    "      saveArticle(article)\n",
    "    except StopIteration:\n",
    "      print(\"Timed out while parsing article\")\n",
    "      continue"
   ]
  },
  {
   "cell_type": "code",
   "execution_count": null,
   "metadata": {},
   "outputs": [],
   "source": [
    "articles = np.load(\"articles.npy2\", allow_pickle=True)\n",
    "\n",
    "# Size of articles changes slightly between runs, even though memoize_articles=False\n",
    "print(len(articles))\n",
    "print(articles[2000])\n"
   ]
  }
 ],
 "metadata": {
  "interpreter": {
   "hash": "0ea6e71fe6c2aa9f3358b319763c1ad31b448739a273bb69e81d71f2de48b4f8"
  },
  "kernelspec": {
   "display_name": "Python 3.8.13 ('arkenv')",
   "language": "python",
   "name": "python3"
  },
  "language_info": {
   "codemirror_mode": {
    "name": "ipython",
    "version": 3
   },
   "file_extension": ".py",
   "mimetype": "text/x-python",
   "name": "python",
   "nbconvert_exporter": "python",
   "pygments_lexer": "ipython3",
   "version": "3.8.13"
  },
  "orig_nbformat": 4
 },
 "nbformat": 4,
 "nbformat_minor": 2
}
