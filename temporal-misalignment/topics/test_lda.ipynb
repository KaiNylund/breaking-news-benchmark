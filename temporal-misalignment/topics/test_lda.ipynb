{
 "cells": [
  {
   "cell_type": "code",
   "execution_count": 47,
   "metadata": {},
   "outputs": [],
   "source": [
    "import numpy as np\n",
    "from tqdm import tqdm\n",
    "import matplotlib.pyplot as plt\n",
    "from sklearn.feature_extraction.text import CountVectorizer\n",
    "from sklearn.decomposition import LatentDirichletAllocation"
   ]
  },
  {
   "cell_type": "code",
   "execution_count": 70,
   "metadata": {},
   "outputs": [],
   "source": [
    "def heatmap_from_metric(metric, metric_name):\n",
    "  plt.imshow(metric)\n",
    "  cbar = plt.colorbar()\n",
    "  cbar.ax.get_yaxis().labelpad = 15\n",
    "  cbar.ax.set_ylabel(metric_name, rotation=270)\n",
    "  ticks = list(range(0, 10, 2))\n",
    "  tick_labels = list(range(2012, 2022, 2))\n",
    "  plt.xticks(ticks=ticks, labels=tick_labels)\n",
    "  plt.yticks(ticks=ticks, labels=tick_labels)\n",
    "  plt.tight_layout()\n",
    "  plt.show()"
   ]
  },
  {
   "cell_type": "code",
   "execution_count": 49,
   "metadata": {},
   "outputs": [],
   "source": [
    "def display_topics(model, feature_names, no_top_words):\n",
    "  for topic_idx, topic in enumerate(model.components_):\n",
    "    print(\"Topic \" + str(topic_idx) + \": \" + \\\n",
    "          \" \".join([feature_names[i] for i in topic.argsort()[:-no_top_words - 1:-1]]))"
   ]
  },
  {
   "cell_type": "code",
   "execution_count": 50,
   "metadata": {},
   "outputs": [],
   "source": [
    "def get_topics(documents, no_topics, no_features):\n",
    "  # LDA can only use raw term counts for LDA because it is a probabilistic graphical model\n",
    "  tf_vectorizer = CountVectorizer(max_df=0.95, min_df=2, max_features=no_features, stop_words='english')\n",
    "  tf = tf_vectorizer.fit_transform(documents)\n",
    "  tf_feature_names = tf_vectorizer.get_feature_names_out()\n",
    "\n",
    "  # Run LDA\n",
    "  lda = LatentDirichletAllocation(n_components=no_topics, max_iter=5, learning_method='online',\n",
    "                                  learning_offset=50., random_state=0).fit(tf)\n",
    "  return lda, tf_feature_names"
   ]
  },
  {
   "cell_type": "code",
   "execution_count": 54,
   "metadata": {},
   "outputs": [
    {
     "name": "stdout",
     "output_type": "stream",
     "text": [
      "Topic 0: said study vaccine university dr research test people health researchers data testing disease risk scientists professor new tests results drug use human symptoms science virus likely blood used team published evidence high according treatment experts covid important based help different 19 early potential body infection information positive levels time lead\n",
      "Topic 1: trump president biden election house campaign democratic white said vote donald senate democrats voters republican presidential joe state administration political states party republicans american new americans sanders obama national voting vice candidate country washington debate news congress america 2016 tuesday race day support win won 2020 week november supporters primary\n",
      "Topic 2: mr image ms said caption copyright bbc images getty people added media says told 000 staff help taken scotland described chief new year coronavirus called wales james saying mark did seen uk paul work speaking centre weeks left asked time money number jones say come given forward years michael later\n",
      "Topic 3: coronavirus virus cases said people new covid 19 health pandemic china outbreak deaths 000 country week masks spread number day positive reported restrictions tested march lockdown confirmed world measures days public mask quarantine weeks travel infections distancing government monday face testing social disease home friday countries daily death april according\n",
      "Topic 4: government uk minister johnson said prime eu british country deal britain european party countries brexit labour boris secretary trade london political international crisis france foreign europe public leader agreement new union national policy french germany leaders end world rules support nations future economic told people year chief decision time week\n",
      "Topic 5: game season league team players said games play year second football win club time points united player final city coach premier ball match cup half teams played won fans left england week sports goal 10 just sport world 12 playing manchester start run clubs saturday round home end right manager\n",
      "Topic 6: covid 19 health care patients hospital medical coronavirus nhs hospitals doctors pandemic die staff dr emergency treatment equipment homes death virus died services deaths disease need response crisis critical april personal people number infection needed capacity heart trust chief lives help fight available officer said 000 life rate risk 10\n",
      "Topic 7: said people school children students work home workers schools lockdown help support social coronavirus government staff need working food pandemic education time online families parents university year community public says pay uk able week student local make college health risk distancing return high 000 safe job young services open family\n",
      "Topic 8: south said australia north climate england wales australian people area northern air west scotland local national sea areas region east island korea ireland park water new border change 000 road near country miles town land parts homes expected london place centre year high day conditions uk city central council residents\n",
      "Topic 9: said media news told facebook statement twitter report information social video china wrote according did company security chinese post reported app group public comment including added online letter saying times members claims board reports used official cnn asked investigation people called account press decision meeting response shared received data sent\n",
      "Topic 10: said family home year old years time day life house mother father just died told son wife children man later daughter death christmas night days left husband friends couple did went like took room came woman away parents child new got friend living didn town long lost car 10 began\n",
      "Topic 11: world black new like use make space white years power water way work best food art amazon light used long high project time set great green small using history just need home free building making red buy change help life large hand different range people century good look create little\n",
      "Topic 12: police said black people officers city protests man protesters floyd officer hong kong death violence george killed lives video year law shot white matter authorities department old told saturday called mayor woman according community force scene anti sunday car outside reported national street group night men say investigation died taken\n",
      "Topic 13: like just people don time says think going ve really know way want good things make lot right got feel say ll thing need come didn work doing day look did little doesn said better long getting bit different big having hard life sure trying does let kind best thought\n",
      "Topic 14: women film new music series star men world story love year best actor tv young book movie woman live life age director man years black american time john shows role released watch video fans king set york played career 2018 original performance including play stage james release wrote david production\n",
      "Topic 15: la le les en des et du une pour dans que est au par il yn qui sur plus son france 000 coronavirus premier eu 19 covid millions 2020 face virus 2019 source grand non europe 10 place situation plan 24 15 centre population car total 20 30 police moment\n",
      "Topic 16: year million market billion financial cent global companies business economy 2020 economic 000 2019 industry money years bank quarter growth sales tax income price said oil company percent demand report cash new according data increase months rate share pandemic end 10 average pay spending cost period costs jobs impact month\n",
      "Topic 17: said state county california officials department federal states public people city health program order san residents governor government local texas new workers administration 000 york angeles washington according los businesses pandemic americans florida home center emergency community week agency national director united plan help need wednesday work american law coronavirus\n",
      "Topic 18: new company 2020 los com angeles 000 york 30 business 10 customers including march service 20 july city june 11 12 25 store 15 year announced travel flight employees april hotel open available 100 car 50 center based free said day 13 date online forward time companies looking million 24\n",
      "Topic 19: court said case law justice military iran judge trial rights attorney legal prison supreme years charges russia war general year investigation office forces evidence defense decision federal did civil united attack accused department security cases 2018 killed 2017 statement force state states including act told release death president according district\n"
     ]
    }
   ],
   "source": [
    "with open(\"../../WMTdata/token_splits/tokens_2020_25000000.txt\", \"r\") as text_file:\n",
    "  documents = text_file.readlines()[0].split(\"<s>\")\n",
    "\n",
    "model, tf_feature_names = get_topics(documents, no_topics=20, no_features=1000)\n",
    "display_topics(model, tf_feature_names, no_top_words=50)"
   ]
  },
  {
   "cell_type": "code",
   "execution_count": 55,
   "metadata": {},
   "outputs": [
    {
     "name": "stderr",
     "output_type": "stream",
     "text": [
      "100%|██████████| 10/10 [12:19<00:00, 73.98s/it]\n"
     ]
    }
   ],
   "source": [
    "num_years = 10\n",
    "no_topics = 20\n",
    "no_features = 1000\n",
    "no_top_words = 50\n",
    "\n",
    "topic_words = np.empty((num_years, no_topics, no_top_words), dtype=object)\n",
    "\n",
    "for i in tqdm(range(num_years)):\n",
    "  with open(\"../../WMTdata/token_splits/tokens_\" + str(2012 + i) + \"_25000000.txt\", \"r\") as text_file:\n",
    "    documents = text_file.readlines()[0].split(\"<s>\")\n",
    "\n",
    "  model, tf_feature_names = get_topics(documents, no_topics=no_topics, no_features=no_features)\n",
    "  for topic_idx, topic in enumerate(model.components_):\n",
    "    feature_names = [tf_feature_names[i] for i in topic.argsort()[:-no_top_words - 1:-1]]\n",
    "    topic_words[i][topic_idx] = np.array(feature_names)"
   ]
  },
  {
   "cell_type": "code",
   "execution_count": 68,
   "metadata": {},
   "outputs": [],
   "source": [
    "num_intersections = np.zeros((num_years, num_years))\n",
    "\n",
    "for i in range(num_years):\n",
    "  for j in range(num_years):\n",
    "    num_intersections[i][j] = len(np.intersect1d(topic_words[i], topic_words[j]))"
   ]
  },
  {
   "cell_type": "code",
   "execution_count": 71,
   "metadata": {},
   "outputs": [
    {
     "data": {
      "image/png": "[encoded data removed]",
      "text/plain": [
       "<Figure size 432x288 with 2 Axes>"
      ]
     },
     "metadata": {
      "needs_background": "light"
     },
     "output_type": "display_data"
    }
   ],
   "source": [
    "heatmap_from_metric(num_intersections, \"Number of Topic Intersections\")"
   ]
  },
  {
   "cell_type": "code",
   "execution_count": 59,
   "metadata": {},
   "outputs": [],
   "source": [
    "np.save(\"./num_topic_intersections\", num_intersections)\n",
    "np.save(\"./topic_words\", topic_words)"
   ]
  },
  {
   "cell_type": "code",
   "execution_count": 83,
   "metadata": {},
   "outputs": [
    {
     "name": "stdout",
     "output_type": "stream",
     "text": [
      "2012 ---------------------------------------\n",
      "[['law' 'court' 'health' 'care' 'federal' 'states' 'rights' 'government'\n",
      "  'state' 'supreme']\n",
      " ['food' 'space' 'water' 'says' 'air' 'home' 'com' 'flight' 'hotel'\n",
      "  'like']\n",
      " ['said' 'women' 'years' 'judge' 'case' 'court' 'family' 'drug' 'year'\n",
      "  'trial']\n",
      " ['like' 'said' 'just' 'time' 'people' 'don' 'think' 'know' 'way' 'going']\n",
      " ['said' 'police' 'people' 'killed' 'year' 'man' 'told' 'authorities'\n",
      "  'old' 'syrian']\n",
      " ['school' 'students' 'children' 'college' 'schools' 'university'\n",
      "  'education' 'student' 'parents' 'high']\n",
      " ['percent' 'year' 'said' 'rate' 'economy' 'bank' 'market' 'growth'\n",
      "  'prices' 'billion']\n",
      " ['china' 'facebook' 'new' 'said' 'apple' 'online' 'chinese' 'google'\n",
      "  'internet' 'site']\n",
      " ['oil' 'european' 'said' 'world' 'energy' 'london' 'union' 'europe'\n",
      "  'british' 'france']\n",
      " ['north' '000' 'south' 'said' 'park' 'storm' 'miles' 'car' 'coast'\n",
      "  'west']]\n",
      "2013 ---------------------------------------\n",
      "[['like' 'just' 'time' 'don' 'think' 'people' 'going' 'way' 'make' 'know']\n",
      " ['said' '2013' 'london' 'updated' 'british' 'bbc' 'uk' 'european'\n",
      "  'england' 'britain']\n",
      " ['com' '2013' 'information' 'online' 'www' 'http' 'company' 'technology'\n",
      "  'new' 'data']\n",
      " ['game' 'said' 'team' 'season' 'games' 'play' 'players' 'league' 'coach'\n",
      "  'football']\n",
      " ['said' 'people' 'killed' 'government' 'officials' 'city' 'police'\n",
      "  'security' 'area' 'state']\n",
      " ['said' 'family' 'children' 'life' 'home' 'people' 'old' 'years' 'year'\n",
      "  'says']\n",
      " ['million' 'company' 'said' 'year' 'billion' 'sales' 'business' '2012'\n",
      "  'financial' 'quarter']\n",
      " ['said' 'state' 'law' 'federal' 'washington' 'new' 'government' 'public'\n",
      "  'department' 'court']\n",
      " ['new' 'mr' 'york' 'city' 'said' 'ms' 'years' 'space' 'music' 'street']\n",
      " ['video' 'said' 'air' 'car' 'water' '000' 'park' 'airport' 'flight'\n",
      "  'miles']]\n",
      "2014 ---------------------------------------\n",
      "[['game' 'said' 'team' 'season' 'games' 'time' 'win' 'year' 'cup' 'play']\n",
      " ['obama' 'president' 'house' 'said' 'washington' 'senate' 'white'\n",
      "  'republican' 'congress' 'republicans']\n",
      " ['2014' 'world' '2013' 'updated' 'south' 'energy' 'year' '2012' 'brazil'\n",
      "  'country']\n",
      " ['said' 'military' 'al' 'iraq' 'government' 'state' 'syria' 'war'\n",
      "  'security' 'ebola']\n",
      " ['points' '10' 'french' 'williams' 'france' 'st' '12' '11' 'second' '20']\n",
      " ['said' 'uk' 'new' '000' 'work' 'london' 'people' 'british' 'government'\n",
      "  'year']\n",
      " ['la' 'le' 'et' 'les' 'en' 'des' 'du' 'une' 'pour' 'au']\n",
      " ['new' 'york' 'film' 'million' 'video' 'photo' 'year' 'music' '2014'\n",
      "  'star']\n",
      " ['school' 'com' 'students' 'schools' 'university' 'www' 'education'\n",
      "  'http' 'museum' 'children']\n",
      " ['market' 'company' 'year' 'said' 'bank' 'business' 'cent' 'growth'\n",
      "  'companies' 'sales']]\n",
      "2015 ---------------------------------------\n",
      "[['said' 'european' 'russia' 'europe' 'countries' 'russian' 'eu' 'greece'\n",
      "  'germany' 'country']\n",
      " ['world' 'year' 'new' 'club' 'cup' 'old' 'time' 'series' 'fans' 'years']\n",
      " ['said' 'health' 'people' 'new' 'information' 'study' 'use' 'research'\n",
      "  'data' 'cancer']\n",
      " ['said' 'military' 'state' 'syria' 'islamic' 'al' 'attacks' 'group'\n",
      "  'forces' 'security']\n",
      " ['new' '2015' 'york' 'los' 'photo' 'angeles' '2014' 'california' 'city'\n",
      "  'san']\n",
      " ['game' 'said' 'team' 'season' 'play' 'games' 'win' 'league' 'players'\n",
      "  'just']\n",
      " ['10' 'england' 'points' '12' 'second' 'williams' '15' 'wales' '11' 'st']\n",
      " ['like' 'people' 'just' 'time' 'says' 'don' 'think' 'know' 'way' 'going']\n",
      " ['said' 'company' 'year' 'market' 'business' 'companies' 'china' 'new'\n",
      "  'bank' 'billion']\n",
      " ['said' 'court' 'family' 'case' 'years' 'year' 'judge' 'mother' 'prison'\n",
      "  'told']]\n",
      "2016 ---------------------------------------\n",
      "[['new' 'york' 'los' 'angeles' 'video' 'photo' 'playing' 'star' 'city'\n",
      "  'set']\n",
      " ['2016' '2015' 'pm' '2014' 'ap' '000' 'march' 'april' 'photo' 'july']\n",
      " ['film' 'black' 'music' 'world' 'movie' 'american' 'book' 'best' 'life'\n",
      "  'years']\n",
      " ['image' 'caption' 'copyright' 'uk' 'eu' 'bbc' 'london' 'said' 'britain'\n",
      "  'government']\n",
      " ['mr' 'ms' 'said' 'mrs' 'photo' 'credit' 'smith' 'fox' 'jones' 'did']\n",
      " ['trump' 'clinton' 'campaign' 'said' 'president' 'republican' 'donald'\n",
      "  'obama' 'election' 'presidential']\n",
      " ['said' 'company' 'million' 'companies' 'business' 'year' 'bank'\n",
      "  'billion' 'sales' 'apple']\n",
      " ['like' 'just' 'people' 'said' 'time' 'don' 'think' 'says' 'know' 'way']\n",
      " ['said' 'city' 'people' '000' 'home' 'area' 'local' 'residents' 'miles'\n",
      "  'near']\n",
      " ['school' 'children' 'students' 'parents' 'university' 'schools' 'child'\n",
      "  'education' 'said' 'student']]\n",
      "2017 ---------------------------------------\n",
      "[['star' 'black' 'year' 'new' 'night' 'look' 'white' 'red' 'pair' 'dress']\n",
      " ['league' 'season' 'club' 'united' 'manchester' 'premier' 'players'\n",
      "  'city' 'chelsea' 'football']\n",
      " ['like' 'just' 'don' 'think' 'said' 'know' 'time' 've' 'people' 'going']\n",
      " ['state' 'percent' 'law' 'said' 'government' 'states' 'new' 'federal'\n",
      "  'court' 'department']\n",
      " ['world' 'team' 'year' 'sport' 'gold' 'fight' 'olympic' 'games'\n",
      "  'football' 'sports']\n",
      " ['women' 'men' 'woman' 'sex' 'sexual' 'female' 'girls' 'man' 'marriage'\n",
      "  'age']\n",
      " ['eu' 'uk' 'britain' 'brexit' 'european' 'british' 'scotland' 'europe'\n",
      "  'country' 'government']\n",
      " ['said' 'new' 'australia' 'australian' 'work' 'sydney' 'year' 'time'\n",
      "  'change' 'years']\n",
      " ['image' 'people' 'media' 'video' 'social' 'said' 'used' 'using' 'use'\n",
      "  'dr']\n",
      " ['said' 'police' 'told' 'court' 'people' 'attack' 'man' 'ms' 'mr'\n",
      "  'killed']]\n",
      "2018 ---------------------------------------\n",
      "[['trump' 'president' 'said' 'house' 'donald' 'white' 'russia' 'russian'\n",
      "  'states' 'united']\n",
      " ['police' 'said' 'man' 'car' 'officers' 'attack' 'killed' 'year'\n",
      "  'incident' 'old']\n",
      " ['court' 'women' 'sexual' 'case' 'sex' 'judge' 'men' 'justice' 'law'\n",
      "  'prison']\n",
      " ['people' 'state' 'government' 'school' 'public' 'social' 'national'\n",
      "  'new' 'students' 'country']\n",
      " ['black' 'year' 'white' 'star' 'australia' 'red' 'pair' 'australian'\n",
      "  'hair' 'los']\n",
      " ['league' 'season' 'club' 'players' 'team' 'game' 'football' 'city'\n",
      "  'united' 'manchester']\n",
      " ['health' 'said' 'people' 'study' 'dr' 'research' 'cancer' 'care' 'new'\n",
      "  'patients']\n",
      " ['world' 'england' 'year' 'team' 'cup' 'final' 'win' 'won' 'time'\n",
      "  'match']\n",
      " ['said' 'game' 'just' 'season' 'time' 'second' 'good' 'going' 'week'\n",
      "  'got']\n",
      " ['said' 'city' 'south' 'people' '000' 'north' 'air' 'water' 'new' 'day']]\n",
      "2019 ---------------------------------------\n",
      "[['image' 'women' 'caption' 'copyright' 'media' 'facebook' 'images'\n",
      "  'says' 'men' 'social']\n",
      " ['new' 'film' 'black' 'music' 'star' 'story' 'series' 'year' 'best'\n",
      "  'book']\n",
      " ['north' 'south' 'air' 'yn' 'said' 'korea' 'border' 'mexico' 'flight'\n",
      "  'water']\n",
      " ['said' 'police' 'man' 'people' 'year' 'killed' 'told' 'officers'\n",
      "  'death' 'old']\n",
      " ['government' 'china' 'country' 'said' 'people' 'war' 'hong' 'kong'\n",
      "  'military' 'chinese']\n",
      " ['la' 'le' 'en' 'les' 'et' 'des' 'du' 'une' 'pour' 'que']\n",
      " ['like' 'just' 'people' 'said' 'don' 'think' 'says' 'time' 've' 'know']\n",
      " ['said' 'people' '000' 'year' 'climate' 'new' 'government' 'money'\n",
      "  'change' 'pay']\n",
      " ['league' 'club' 'season' 'football' 'city' 'players' 'united'\n",
      "  'liverpool' 'goal' 'manchester']\n",
      " ['children' 'family' 'home' 'child' 'school' 'year' 'mother' 'parents'\n",
      "  'old' 'life']]\n",
      "2020 ---------------------------------------\n",
      "[['said' 'study' 'vaccine' 'university' 'dr' 'research' 'test' 'people'\n",
      "  'health' 'researchers']\n",
      " ['trump' 'president' 'biden' 'election' 'house' 'campaign' 'democratic'\n",
      "  'white' 'said' 'vote']\n",
      " ['mr' 'image' 'ms' 'said' 'caption' 'copyright' 'bbc' 'images' 'getty'\n",
      "  'people']\n",
      " ['coronavirus' 'virus' 'cases' 'said' 'people' 'new' 'covid' '19'\n",
      "  'health' 'pandemic']\n",
      " ['government' 'uk' 'minister' 'johnson' 'said' 'prime' 'eu' 'british'\n",
      "  'country' 'deal']\n",
      " ['game' 'season' 'league' 'team' 'players' 'said' 'games' 'play' 'year'\n",
      "  'second']\n",
      " ['covid' '19' 'health' 'care' 'patients' 'hospital' 'medical'\n",
      "  'coronavirus' 'nhs' 'hospitals']\n",
      " ['said' 'people' 'school' 'children' 'students' 'work' 'home' 'workers'\n",
      "  'schools' 'lockdown']\n",
      " ['south' 'said' 'australia' 'north' 'climate' 'england' 'wales'\n",
      "  'australian' 'people' 'area']\n",
      " ['said' 'media' 'news' 'told' 'facebook' 'statement' 'twitter' 'report'\n",
      "  'information' 'social']]\n",
      "2021 ---------------------------------------\n",
      "[['best' 'com' 'buy' 'amazon' 'like' 'use' 'make' 'uk' 'dog' '99']\n",
      " ['game' 'season' 'win' 'second' 'said' 'points' 'time' 'games' 'just'\n",
      "  'play']\n",
      " ['black' 'new' 'film' 'life' 'years' 'world' 'music' 'family' 'star'\n",
      "  'story']\n",
      " ['biden' 'trump' 'president' 'house' 'election' 'republican'\n",
      "  'administration' 'white' 'said' 'senate']\n",
      " ['police' 'said' 'officers' 'man' 'people' 'officer' 'killed' 'death'\n",
      "  'old' 'year']\n",
      " ['la' 'en' 'le' 'et' 'des' 'les' 'el' 'que' 'los' 'plus']\n",
      " ['like' 'just' 'people' 'said' 'time' 'think' 'don' 'says' 'going'\n",
      "  'really']\n",
      " ['said' 'health' 'research' 'study' 'university' 'data' 'dr' 'people'\n",
      "  'new' 'use']\n",
      " ['said' 'state' 'workers' 'work' 'california' 'people' 'government'\n",
      "  'public' '000' 'county']\n",
      " ['said' 'media' 'news' 'told' 'social' 'facebook' 'statement' 'video'\n",
      "  'twitter' 'wrote']]\n"
     ]
    }
   ],
   "source": [
    "np.set_printoptions(threshold=np.inf)\n",
    "for i in range(0, 10):\n",
    "  print(str(2012 + i) + \" ---------------------------------------\")\n",
    "  print(topic_words[i][:10][:, :10])\n",
    "np.set_printoptions(threshold=1000)"
   ]
  }
 ],
 "metadata": {
  "kernelspec": {
   "display_name": "Python 3.8.13 ('arkenv')",
   "language": "python",
   "name": "python3"
  },
  "language_info": {
   "codemirror_mode": {
    "name": "ipython",
    "version": 3
   },
   "file_extension": ".py",
   "mimetype": "text/x-python",
   "name": "python",
   "nbconvert_exporter": "python",
   "pygments_lexer": "ipython3",
   "version": "3.8.13"
  },
  "orig_nbformat": 4,
  "vscode": {
   "interpreter": {
    "hash": "0ea6e71fe6c2aa9f3358b319763c1ad31b448739a273bb69e81d71f2de48b4f8"
   }
  }
 },
 "nbformat": 4,
 "nbformat_minor": 2
}
