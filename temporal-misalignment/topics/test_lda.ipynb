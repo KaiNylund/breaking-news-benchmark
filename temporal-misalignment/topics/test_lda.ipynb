{
 "cells": [
  {
   "cell_type": "code",
   "execution_count": 1,
   "metadata": {},
   "outputs": [],
   "source": [
    "from sklearn.feature_extraction.text import CountVectorizer\n",
    "from sklearn.decomposition import LatentDirichletAllocation"
   ]
  },
  {
   "cell_type": "code",
   "execution_count": 2,
   "metadata": {},
   "outputs": [],
   "source": [
    "def display_topics(model, feature_names, no_top_words):\n",
    "  for topic_idx, topic in enumerate(model.components_):\n",
    "    print(\"Topic %d:\" % (topic_idx))\n",
    "    print(\" \".join([feature_names[i] for i in topic.argsort()[:-no_top_words - 1:-1]]))"
   ]
  },
  {
   "cell_type": "code",
   "execution_count": 5,
   "metadata": {},
   "outputs": [],
   "source": [
    "with open(\"tokens_2020_1250000.txt\", \"r\") as text_file:\n",
    "  documents = text_file.readlines()[0].split(\"<s>\")"
   ]
  },
  {
   "cell_type": "code",
   "execution_count": 7,
   "metadata": {},
   "outputs": [],
   "source": [
    "no_features = 1000\n",
    "\n",
    "# LDA can only use raw term counts for LDA because it is a probabilistic graphical model\n",
    "tf_vectorizer = CountVectorizer(max_df=0.95, min_df=2, max_features=no_features, stop_words='english')\n",
    "tf = tf_vectorizer.fit_transform(documents)\n",
    "tf_feature_names = tf_vectorizer.get_feature_names_out()"
   ]
  },
  {
   "cell_type": "code",
   "execution_count": 10,
   "metadata": {},
   "outputs": [
    {
     "name": "stdout",
     "output_type": "stream",
     "text": [
      "Topic 0:\n",
      "black video twitter media series said white people social lives\n",
      "Topic 1:\n",
      "family harry years prince getty daughter children father royal husband\n",
      "Topic 2:\n",
      "year new seattle 10 cent 000 run high 20 energy\n",
      "Topic 3:\n",
      "trump president election biden house said party donald white political\n",
      "Topic 4:\n",
      "police said man officers death floyd year officer incident mr\n",
      "Topic 5:\n",
      "said state people government public south home department county officials\n",
      "Topic 6:\n",
      "said year new government world china company minister business million\n",
      "Topic 7:\n",
      "said people time like just home year uk going know\n",
      "Topic 8:\n",
      "season game league team players year club united time said\n",
      "Topic 9:\n",
      "coronavirus covid said health 19 people cases virus new pandemic\n"
     ]
    }
   ],
   "source": [
    "no_topics = 10\n",
    "\n",
    "# Run LDA\n",
    "lda = LatentDirichletAllocation(n_components=no_topics, max_iter=5, learning_method='online',\n",
    "                                learning_offset=50.,random_state=0).fit(tf)\n",
    "\n",
    "no_top_words = 10\n",
    "display_topics(lda, tf_feature_names, no_top_words)"
   ]
  }
 ],
 "metadata": {
  "kernelspec": {
   "display_name": "Python 3.8.13 ('arkenv')",
   "language": "python",
   "name": "python3"
  },
  "language_info": {
   "codemirror_mode": {
    "name": "ipython",
    "version": 3
   },
   "file_extension": ".py",
   "mimetype": "text/x-python",
   "name": "python",
   "nbconvert_exporter": "python",
   "pygments_lexer": "ipython3",
   "version": "3.8.13"
  },
  "orig_nbformat": 4,
  "vscode": {
   "interpreter": {
    "hash": "0ea6e71fe6c2aa9f3358b319763c1ad31b448739a273bb69e81d71f2de48b4f8"
   }
  }
 },
 "nbformat": 4,
 "nbformat_minor": 2
}
