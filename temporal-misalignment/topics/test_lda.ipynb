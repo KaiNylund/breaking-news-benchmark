{
 "cells": [
  {
   "cell_type": "code",
   "execution_count": 47,
   "metadata": {},
   "outputs": [],
   "source": [
    "import numpy as np\n",
    "from tqdm import tqdm\n",
    "import matplotlib.pyplot as plt\n",
    "from sklearn.feature_extraction.text import CountVectorizer\n",
    "from sklearn.decomposition import LatentDirichletAllocation"
   ]
  },
  {
   "cell_type": "code",
   "execution_count": 48,
   "metadata": {},
   "outputs": [],
   "source": [
    "def heatmap_from_metric(metric, metric_name):\n",
    "  plt.imshow(metric)\n",
    "  cbar = plt.colorbar()\n",
    "  cbar.ax.get_yaxis().labelpad = 15\n",
    "  cbar.ax.set_ylabel(metric_name, rotation=270)\n",
    "  ticks = list(range(0, 10, 2))\n",
    "  tick_labels = list(range(2012, 2022, 2))\n",
    "  plt.xticks(ticks=ticks, labels=tick_labels)\n",
    "  plt.yticks(ticks=ticks, labels=tick_labels)\n",
    "  plt.xlabel(\"Train year\")\n",
    "  plt.ylabel(\"Test year\")\n",
    "  plt.tight_layout()\n",
    "  plt.show()"
   ]
  },
  {
   "cell_type": "code",
   "execution_count": 49,
   "metadata": {},
   "outputs": [],
   "source": [
    "def display_topics(model, feature_names, no_top_words):\n",
    "  for topic_idx, topic in enumerate(model.components_):\n",
    "    print(\"Topic \" + str(topic_idx) + \": \" + \\\n",
    "          \" \".join([feature_names[i] for i in topic.argsort()[:-no_top_words - 1:-1]]))"
   ]
  },
  {
   "cell_type": "code",
   "execution_count": 50,
   "metadata": {},
   "outputs": [],
   "source": [
    "def get_topics(documents, no_topics, no_features):\n",
    "  # LDA can only use raw term counts for LDA because it is a probabilistic graphical model\n",
    "  tf_vectorizer = CountVectorizer(max_df=0.95, min_df=2, max_features=no_features, stop_words='english')\n",
    "  tf = tf_vectorizer.fit_transform(documents)\n",
    "  tf_feature_names = tf_vectorizer.get_feature_names_out()\n",
    "\n",
    "  # Run LDA\n",
    "  lda = LatentDirichletAllocation(n_components=no_topics, max_iter=5, learning_method='online',\n",
    "                                  learning_offset=50., random_state=0).fit(tf)\n",
    "  return lda, tf_feature_names"
   ]
  },
  {
   "cell_type": "code",
   "execution_count": 54,
   "metadata": {},
   "outputs": [],
   "source": [
    "with open(\"../../WMTdata/token_splits/tokens_2020_25000000.txt\", \"r\") as text_file:\n",
    "  documents = text_file.readlines()[0].split(\"<s>\")\n",
    "\n",
    "model, tf_feature_names = get_topics(documents, no_topics=20, no_features=1000)\n",
    "display_topics(model, tf_feature_names, no_top_words=50)"
   ]
  },
  {
   "cell_type": "code",
   "execution_count": null,
   "metadata": {},
   "outputs": [],
   "source": [
    "num_years = 10\n",
    "no_topics = 20\n",
    "no_features = 1000\n",
    "no_top_words = 50\n",
    "\n",
    "topic_words = np.empty((num_years, no_topics, no_top_words), dtype=object)\n",
    "\n",
    "for i in tqdm(range(num_years)):\n",
    "  with open(\"../../WMTdata/token_splits/tokens_\" + str(2012 + i) + \"_25000000.txt\", \"r\") as text_file:\n",
    "    documents = text_file.readlines()[0].split(\"<s>\")\n",
    "\n",
    "  model, tf_feature_names = get_topics(documents, no_topics=no_topics, no_features=no_features)\n",
    "  for topic_idx, topic in enumerate(model.components_):\n",
    "    feature_names = [tf_feature_names[i] for i in topic.argsort()[:-no_top_words - 1:-1]]\n",
    "    topic_words[i][topic_idx] = np.array(feature_names)"
   ]
  },
  {
   "cell_type": "code",
   "execution_count": null,
   "metadata": {},
   "outputs": [],
   "source": [
    "num_intersections = np.zeros((num_years, num_years))\n",
    "\n",
    "for i in range(num_years):\n",
    "  for j in range(num_years):\n",
    "    num_intersections[i][j] = len(np.intersect1d(topic_words[i], topic_words[j]))"
   ]
  },
  {
   "cell_type": "code",
   "execution_count": null,
   "metadata": {},
   "outputs": [
    {
     "data": {
      "image/png": "[encoded data removed]",
      "text/plain": [
       "<Figure size 432x288 with 2 Axes>"
      ]
     },
     "metadata": {
      "needs_background": "light"
     },
     "output_type": "display_data"
    }
   ],
   "source": [
    "heatmap_from_metric(num_intersections, \"Number of Topic Intersections\")"
   ]
  }
 ],
 "metadata": {
  "kernelspec": {
   "display_name": "Python 3.8.13 ('arkenv')",
   "language": "python",
   "name": "python3"
  },
  "language_info": {
   "codemirror_mode": {
    "name": "ipython",
    "version": 3
   },
   "file_extension": ".py",
   "mimetype": "text/x-python",
   "name": "python",
   "nbconvert_exporter": "python",
   "pygments_lexer": "ipython3",
   "version": "3.8.13"
  },
  "orig_nbformat": 4,
  "vscode": {
   "interpreter": {
    "hash": "0ea6e71fe6c2aa9f3358b319763c1ad31b448739a273bb69e81d71f2de48b4f8"
   }
  }
 },
 "nbformat": 4,
 "nbformat_minor": 2
}
